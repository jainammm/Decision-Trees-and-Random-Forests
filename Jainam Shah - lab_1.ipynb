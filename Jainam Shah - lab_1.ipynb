{
 "cells": [
  {
   "cell_type": "code",
   "execution_count": null,
   "metadata": {},
   "outputs": [],
   "source": [
    "import os \n",
    "os.environ[\"CUDA_VISIBLE_DEVICES\"]=\"0\""
   ]
  },
  {
   "cell_type": "markdown",
   "metadata": {},
   "source": [
    "#                                               Lab 1 - Weightage - 3%\n",
    "\n",
    "##  Decision Trees and Random Forests\n",
    "\n"
   ]
  },
  {
   "cell_type": "markdown",
   "metadata": {},
   "source": [
    "### Dataset used : Amazon Fine food reviews.\n",
    "### Maximum points in lab : 75 pts.\n",
    "#### Important points to remember :\n",
    " 1. Observations for the experiments done should be explained.\n",
    " 2. All the code should be submitted in form of single Jupyter notebook itself.\n",
    " 3. Points for each sub-section are mentioned in appropriate question.\n",
    " 4. Make sure to begin early since few experiments may consume more time to run.\n",
    " 5. You can use Google colab to run in jupyter notebook (https://colab.research.google.com/) How to load data in Google Colab ?(https://towardsdatascience.com/3-ways-to-load-csv-files-into-colab-7c14fcbdcb92)\n",
    " 6. The lab must be submitted on Google classroom. The code as well as the accompanying observations should be made part of the python notebook.\n",
    " 7. __The lab is due on Feb 7th 11.59pm.__\n",
    " 8. __The lab should be completed individually. Students are expected to follow the honor code of the class.__"
   ]
  },
  {
   "cell_type": "markdown",
   "metadata": {},
   "source": [
    "### 1. Go through [scikit learn DecisionTree documentation] : https://scikit-learn.org/stable/modules/generated/sklearn.tree.DecisionTreeClassifier.html#sklearn.tree.DecisionTreeClassifier\n",
    "### Explain briefly various options available in corresponding DecisionTree classifier in scikit-learn package. [5 pts]\n",
    "\n",
    "\n"
   ]
  },
  {
   "cell_type": "markdown",
   "metadata": {},
   "source": [
    "# Add your description of the function here."
   ]
  },
  {
   "cell_type": "markdown",
   "metadata": {},
   "source": [
    "The Amazon Fine Food Reviews dataset consists of reviews of fine foods from Amazon.<br>\n",
    "\n",
    "Number of reviews: 568,454<br>\n",
    "Number of users: 256,059<br>\n",
    "Number of products: 74,258<br>\n",
    "Timespan: Oct 1999 - Oct 2012<br>\n",
    "Number of Attributes/Columns in data: 10 \n",
    "\n",
    "Attribute Information:\n",
    "\n",
    "1. Id\n",
    "2. ProductId - unique identifier for the product\n",
    "3. UserId - unqiue identifier for the user\n",
    "4. ProfileName\n",
    "5. HelpfulnessNumerator - number of users who found the review helpful\n",
    "6. HelpfulnessDenominator - number of users who indicated whether they found the review helpful or not\n",
    "7. Score - rating between 1 and 5 \n",
    "8. Time - timestamp for the review\n",
    "9. Summary - brief summary of the review\n",
    "10. Text - text of the review\n",
    "\n",
    "Out of above attributes we will consider <strong>Score as Y or Output variable</strong>, and  <strong>Summary as X or data points.</strong>\n",
    "\n"
   ]
  },
  {
   "cell_type": "markdown",
   "metadata": {},
   "source": [
    "### Import Libraries"
   ]
  },
  {
   "cell_type": "code",
   "execution_count": null,
   "metadata": {},
   "outputs": [],
   "source": [
    "%matplotlib inline\n",
    "import numpy as np\n",
    "import pandas as pd\n",
    "from sklearn.metrics import accuracy_score\n",
    "from IPython.display import HTML\n",
    "import matplotlib.pyplot as plt\n",
    "from sklearn import model_selection\n",
    "import pickle\n",
    "import sqlite3\n",
    "import nltk\n",
    "from nltk.corpus import stopwords\n",
    "import string\n",
    "from sklearn.feature_extraction.text import CountVectorizer\n",
    "from sklearn import metrics\n",
    "from sklearn.model_selection import train_test_split\n",
    "from nltk.stem.porter import PorterStemmer\n",
    "from nltk.corpus import stopwords"
   ]
  },
  {
   "cell_type": "markdown",
   "metadata": {},
   "source": [
    "### 2.  Dataset loading, train test split, print two data points after converting score column into positive, negative class - [5 pts]\n",
    "#### steps :\n",
    " Use score column as the output variable and Summary as the input variable\n",
    " 1. Convert score column as score > 3 - positive class and score <=3 as negative class.\n",
    " 2. Now define train test split as 0.25."
   ]
  },
  {
   "cell_type": "code",
   "execution_count": null,
   "metadata": {
    "scrolled": true
   },
   "outputs": [],
   "source": [
    "# connecting to the dataset server to download the amazon fine foods dataset. Do not make any changes to the code below\n",
    "con = sqlite3.connect('datasets/amazon-fine-food-reviews/database.sqlite')\n",
    "messages = pd.read_sql_query(\"\"\"\n",
    "SELECT Score, Summary\n",
    "FROM Reviews\n",
    "\"\"\", con)\n",
    "\n",
    "# the parition function applied threshold on the rating to label a review as 'positive' or 'negative'.\n",
    "def partition(x):\n",
    "   # insert your code here\n",
    "\n",
    "Score = messages['Score']\n",
    "Score = Score.map(partition)\n",
    "Summary = messages['Summary']\n",
    "\n",
    "# call the function to create the train and test splits according to the ratio 75:25\n",
    "# uncomment and complete the line below\n",
    "\n",
    "# train_X, test_X, train_y, test_y = \n",
    "\n",
    "# print an example of the dataset after the labeling process\n",
    "print(messages.head(2))\n",
    "tmp = messages\n",
    "tmp['Score'] = tmp['Score'].map(partition)\n",
    "print(tmp.head(2))"
   ]
  },
  {
   "cell_type": "code",
   "execution_count": null,
   "metadata": {},
   "outputs": [],
   "source": [
    "# do not change make any changes to the code below. This part of the\n",
    "# code removes stop words and transforms all the words and letters\n",
    "# into a uniform representation. Further, it also removes punctuation\n",
    "# marks.\n",
    "stemmer = PorterStemmer()\n",
    "\n",
    "def stem_tokens(tokens, stemmer):\n",
    "    stemmed = []\n",
    "    for item in tokens:\n",
    "        stemmed.append(stemmer.stem(item))\n",
    "    return stemmed\n",
    "\n",
    "def tokenize(text):\n",
    "    tokens = nltk.word_tokenize(text)\n",
    "    stems = stem_tokens(tokens, stemmer)\n",
    "    return ' '.join(stems)\n",
    "\n",
    "intab = string.punctuation\n",
    "outtab = \"                                \"\n",
    "trantab = str.maketrans(intab, outtab)\n",
    "\n",
    "corpus = []\n",
    "count_train_x=0\n",
    "for text in train_X:\n",
    "    count_train_x=count_train_x+1\n",
    "    text = text.lower()\n",
    "    text = text.translate(trantab)\n",
    "    text=tokenize(text)\n",
    "    corpus.append(text)\n",
    "        \n",
    "count_test_x=0\n",
    "test_set=[]\n",
    "for text in test_X:\n",
    "    count_test_x=count_test_x+1\n",
    "    text = text.lower()\n",
    "    text = text.translate(trantab)\n",
    "    text=tokenize(text)\n",
    "    test_set.append(text)\n",
    "\n",
    "count_vect = CountVectorizer()\n",
    "X_train_counts = count_vect.fit_transform(corpus)        \n",
    "X_test_counts = count_vect.transform(test_set)"
   ]
  },
  {
   "cell_type": "markdown",
   "metadata": {},
   "source": [
    "### 4. Print before and after using data pre-processing for five data points - [5 pts]\n",
    "For example, following are some outputs that we were able to generate\n",
    "\n",
    " ID | Before preprocessing | After preprocessing \n",
    " -|-|-\n",
    " 45612 | Good Strong Flavor|good strong flavor \n",
    " 180139 | GREAT SIDE DISH | great side dish \n",
    " 541273 | Its agar | it agar \n",
    " 102774 | Great product! | great product\n",
    " 447382 | Love them | love them "
   ]
  },
  {
   "cell_type": "code",
   "execution_count": null,
   "metadata": {},
   "outputs": [],
   "source": [
    "# Data before the processing step is stored in the variable train_X \n",
    "# and the processed data is present in corpus. Print randomly 5 \n",
    "# instances to check the success of the processing step. \n",
    "# insert your code here"
   ]
  },
  {
   "attachments": {
    "tree.png": {
     "image/png": "[encoded data removed]"
    }
   },
   "cell_type": "markdown",
   "metadata": {},
   "source": [
    "### 5. Build a basic decision tree choosing appropriate min_samples_leaf parameter so that tree fits in output cell using Graphviz package [5 pts]\n",
    "Use the decision tree classifier from the sklearn library to learn a decision tree from the training dataet. For now, we would like to only visualize the tree to ensure that we are calling the correct function. Set the min_samples_leaf parameter to a high value (>15000) for learning the tree. This tree will not be accurate, but will be big enough for us to visualize it. Identify the functions in the tree package that will help to visualize the tree and plot it. Below is a sample tree generated when mi_samples_leaf was set to 20000\n",
    "![tree.png](attachment:tree.png)"
   ]
  },
  {
   "cell_type": "code",
   "execution_count": null,
   "metadata": {},
   "outputs": [],
   "source": [
    "from sklearn import tree\n",
    "# insert your code here"
   ]
  },
  {
   "cell_type": "code",
   "execution_count": null,
   "metadata": {},
   "outputs": [],
   "source": []
  },
  {
   "cell_type": "markdown",
   "metadata": {},
   "source": [
    "### 6. Experiments with different tree parameters\n",
    "#### a. minimum number of samples in a node.  [5 pts]\n",
    "By now we should have all the code in place for learning accurate decision trees. As we discussed in the class, one method to prevent overfitting a decision tree is to put constraints on the number of samples assigned to a split node during training. We had used this parameter to learn extremely short decision trees in the previous step. Let us now vary this parameter and investigate the impact on the train and test accuracy of the model. \n",
    "The first part of the code should loop around different values for min_samples_split and save the resulting train and test accuracy. In the second part, plot a graph with x-axis being the number of samples in the node and accuracy being the y axis. Plot both the train and test accuracies in the same figure. Write a generic function for the plotting as we will use it later for other visualizations."
   ]
  },
  {
   "cell_type": "code",
   "execution_count": null,
   "metadata": {},
   "outputs": [],
   "source": [
    "test_accuracy_list=[]\n",
    "train_accuracy_list=[]\n",
    "min_samples_split = [10,50,100,200]\n",
    "for i in min_samples_split:\n",
    "    # insert your code here\n",
    "\n",
    "    \n",
    "def plot_accuracy(test_accuracy_list,train_accuracy_list, xlabel, y label, title):\n",
    "    # insert your code here\n",
    "    \n",
    "plot_accuracy(test_accuracy_list,train_accuracy_list, xlabel, y label, title)"
   ]
  },
  {
   "cell_type": "markdown",
   "metadata": {},
   "source": [
    "#### b. maximum number of leaf nodes in the tree [5 pts]\n",
    "The tree learner has a parameter max_leaf_nodes. Discuss the role of this parameter during the tree learning. Investigate the impact of this parameter on the train and test accuracy."
   ]
  },
  {
   "cell_type": "code",
   "execution_count": null,
   "metadata": {},
   "outputs": [],
   "source": [
    "test_accuracy_list=[]\n",
    "train_accuracy_list=[]\n",
    "max_leaf_nodes=1000\n",
    "step_size_2=50\n",
    "for i in range(2, max_leaf_nodes,step_size_2):\n",
    "    # insert your code here\n",
    "\n",
    "plot_accuracy(test_accuracy_list, train_accuracy_list, xlabel, ylabel, title)"
   ]
  },
  {
   "cell_type": "markdown",
   "metadata": {},
   "source": [
    "#### c. splitting criteria [5 pts]\n",
    "Identify the default splitting critera and experiment with other criterion implemented in the tree package. Report the accuracy on the test dataset as well as other parameters chracterizing the learned decision tree. "
   ]
  },
  {
   "cell_type": "code",
   "execution_count": null,
   "metadata": {},
   "outputs": [],
   "source": [
    "# insert your code here"
   ]
  },
  {
   "cell_type": "markdown",
   "metadata": {},
   "source": [
    "#### d. depth of the decision tree [5 pts]\n",
    "Investigate the impact of depth of the decision tree on the test accuracy"
   ]
  },
  {
   "cell_type": "code",
   "execution_count": null,
   "metadata": {},
   "outputs": [],
   "source": [
    "test_accuracy_list=[]\n",
    "train_accuracy_list=[]\n",
    "maximum_depth=1000\n",
    "step_size=50\n",
    "for i in range(1, maximum_depth,step_size):\n",
    "    #insert your code here\n",
    "\n",
    "plot_accuracy(test_accuracy_list, train_accuracy_list, xlabel, ylabel, title)"
   ]
  },
  {
   "cell_type": "markdown",
   "metadata": {},
   "source": [
    "### 7. Random forest\n",
    "Now, let us explore an ensemble of decision trees - random forest. Fortunately, sklearn has an ensemble library containing the random forest classifier. Let us learn a random forest using both instance and feature bagging independently.\n",
    "#### a. briefly describe the input parameters to the random forest classifier [5 pts]\n",
    "insert your description here\n",
    "#### b. instance bagging [10 pts]\n",
    "As discussed in the class, instances are sampled with replacement to create multiple synthetic training sets. Decision tree is learned for every training set. An ensemble strategy (majority voting) is applied on the output of all the trees for a test instance. Let us vary the number of instances in each bag to learn the random forest and check if there is impact on the performance of the ensemble. "
   ]
  },
  {
   "cell_type": "code",
   "execution_count": null,
   "metadata": {},
   "outputs": [],
   "source": [
    "import sklearn\n",
    "from sklearn.ensemble import RandomForestClassifier\n",
    "import random\n",
    "test_accuracy_list=[]\n",
    "train_accuracy_list=[]\n",
    "number_of_instances = [1000,5000,10000,20000]\n",
    "for i in number_of_instances:\n",
    "    # insert your code here\n",
    "\n",
    "plot_accuracy(test_accuracy_list, train_accuracy_list, xlabel, ylabel, title)"
   ]
  },
  {
   "cell_type": "markdown",
   "metadata": {},
   "source": [
    "#### c. feature bagging [10 pts]\n",
    "For performing feature bagging, we sample a subset of features from the initial set of features. A decision tree is learned for every training set that contains all the instances characterized by a subset of features. An ensemble strategy is applied for classifying a test instance. In this experiment we will investigate the impact of varying the number of features bagged on the test accuracy."
   ]
  },
  {
   "cell_type": "code",
   "execution_count": null,
   "metadata": {},
   "outputs": [],
   "source": [
    "test_accuracy_list=[]\n",
    "train_accuracy_list=[]\n",
    "number_of_features = [1000,10000,15000,20000]\n",
    "for i in number_of_features:\n",
    "    # insert your code here\n",
    "\n",
    "    \n",
    "plot_accuracy(test_accuracy_list ,train_accuracy_list, xlabel, ylabel, title)"
   ]
  },
  {
   "cell_type": "markdown",
   "metadata": {},
   "source": [
    "#### d. number of trees in the forest [10 pts]\n",
    "Finally let us vary the number of trees in the random forest. We will use the default random forest classifier and only vary the number of trees learned in the ensemble. Again make your observations on the test accuracy as the number of trees are varied."
   ]
  },
  {
   "cell_type": "code",
   "execution_count": null,
   "metadata": {
    "scrolled": true
   },
   "outputs": [],
   "source": [
    "test_accuracy_list=[]\n",
    "train_accuracy_list=[]\n",
    "number_of_trees = [1,2,5,10,50]\n",
    "for i in number_of_trees:\n",
    "    # insert your code here\n",
    "    \n",
    "plot_accuracy(test_accuracy_list ,train_accuracy_list, xlabel, ylabel, title)"
   ]
  }
 ],
 "metadata": {
  "kernelspec": {
   "display_name": "Python 3",
   "language": "python",
   "name": "python3"
  },
  "language_info": {
   "codemirror_mode": {
    "name": "ipython",
    "version": 3
   },
   "file_extension": ".py",
   "mimetype": "text/x-python",
   "name": "python",
   "nbconvert_exporter": "python",
   "pygments_lexer": "ipython3",
   "version": "3.5.6"
  }
 },
 "nbformat": 4,
 "nbformat_minor": 2
}
